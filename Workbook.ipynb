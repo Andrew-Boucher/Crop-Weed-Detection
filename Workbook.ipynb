{
 "cells": [
  {
   "cell_type": "code",
   "execution_count": 2,
   "metadata": {},
   "outputs": [
    {
     "name": "stderr",
     "output_type": "stream",
     "text": [
      "/opt/anaconda3/envs/learn-env/lib/python3.8/site-packages/requests/__init__.py:89: RequestsDependencyWarning: urllib3 (1.26.13) or chardet (3.0.4) doesn't match a supported version!\n",
      "  warnings.warn(\"urllib3 ({}) or chardet ({}) doesn't match a supported \"\n"
     ]
    }
   ],
   "source": [
    "# imports\n",
    "import numpy as np\n",
    "import pandas as pd\n",
    "import matplotlib.pyplot as plt\n",
    "import os\n",
    "import cv2\n",
    "import pickle\n",
    "from sklearn.model_selection import train_test_split\n",
    "from tensorflow import keras\n",
    "from IPython.display import display\n",
    "\n",
    "from tensorflow.keras.applications import VGG16\n",
    "from tensorflow.keras.layers import Flatten\n",
    "from tensorflow.keras.layers import Dropout\n",
    "from tensorflow.keras.layers import Dense\n",
    "from tensorflow.keras.layers import Input\n",
    "from tensorflow.keras.models import Model\n",
    "from tensorflow.keras.optimizers import Adam\n",
    "from tensorflow.keras.preprocessing.image import img_to_array\n",
    "from tensorflow.keras.preprocessing.image import load_img\n",
    "from tensorflow.keras.utils import to_categorical\n",
    "#from imutils import paths #might need to install imutils package\n",
    "\n",
    "#import shutil\n",
    "#from pycocotools.coco import COCO\n",
    "#from pathlib import Path\n",
    "#from PIL import Image\n",
    "\n",
    "#import torch\n",
    "#import torchvision\n",
    "#from torch.utils.data import Dataset\n",
    "#from torchvision.transforms import ToTensor\n",
    "#from torchvision.io import read_image    #could not import because running older version of torchvision in learn env"
   ]
  },
  {
   "cell_type": "markdown",
   "metadata": {},
   "source": [
    "### Pulling data into Dataframes"
   ]
  },
  {
   "cell_type": "code",
   "execution_count": 3,
   "metadata": {},
   "outputs": [],
   "source": [
    "# setting data paths and making list of each file type\n",
    "\n",
    "path = '../Data/data/'\n",
    "\n",
    "image_list = [x for x in os.listdir(path) if x.endswith('.jpeg')]\n",
    "\n",
    "label_list = [x for x in os.listdir(path) if x.endswith('.txt')]\n",
    "\n",
    "image_list.sort()\n",
    "label_list.sort()"
   ]
  },
  {
   "cell_type": "code",
   "execution_count": 4,
   "metadata": {},
   "outputs": [
    {
     "data": {
      "text/plain": [
       "True"
      ]
     },
     "execution_count": 4,
     "metadata": {},
     "output_type": "execute_result"
    }
   ],
   "source": [
    "# checking image and label lists\n",
    "image_list_check = [x[:-5] for x in image_list]\n",
    "label_list_check = [x[:-4] for x in label_list]\n",
    "                    \n",
    "image_list_check == label_list_check"
   ]
  },
  {
   "cell_type": "code",
   "execution_count": 5,
   "metadata": {},
   "outputs": [
    {
     "data": {
      "text/html": [
       "<div>\n",
       "<style scoped>\n",
       "    .dataframe tbody tr th:only-of-type {\n",
       "        vertical-align: middle;\n",
       "    }\n",
       "\n",
       "    .dataframe tbody tr th {\n",
       "        vertical-align: top;\n",
       "    }\n",
       "\n",
       "    .dataframe thead th {\n",
       "        text-align: right;\n",
       "    }\n",
       "</style>\n",
       "<table border=\"1\" class=\"dataframe\">\n",
       "  <thead>\n",
       "    <tr style=\"text-align: right;\">\n",
       "      <th></th>\n",
       "      <th>image_file</th>\n",
       "      <th>class</th>\n",
       "      <th>x_center</th>\n",
       "      <th>y_center</th>\n",
       "      <th>width</th>\n",
       "      <th>height</th>\n",
       "    </tr>\n",
       "  </thead>\n",
       "  <tbody>\n",
       "    <tr>\n",
       "      <th>0</th>\n",
       "      <td>agri_0_1009.jpeg</td>\n",
       "      <td>1</td>\n",
       "      <td>0.608398</td>\n",
       "      <td>0.498047</td>\n",
       "      <td>0.541016</td>\n",
       "      <td>0.53125</td>\n",
       "    </tr>\n",
       "    <tr>\n",
       "      <th>1</th>\n",
       "      <td>agri_0_1017.jpeg</td>\n",
       "      <td>1</td>\n",
       "      <td>0.496094</td>\n",
       "      <td>0.384766</td>\n",
       "      <td>0.960938</td>\n",
       "      <td>0.753906</td>\n",
       "    </tr>\n",
       "    <tr>\n",
       "      <th>2</th>\n",
       "      <td>agri_0_1018.jpeg</td>\n",
       "      <td>1</td>\n",
       "      <td>0.445312</td>\n",
       "      <td>0.483398</td>\n",
       "      <td>0.808594</td>\n",
       "      <td>0.634766</td>\n",
       "    </tr>\n",
       "    <tr>\n",
       "      <th>3</th>\n",
       "      <td>agri_0_1020.jpeg</td>\n",
       "      <td>1</td>\n",
       "      <td>0.494141</td>\n",
       "      <td>0.350586</td>\n",
       "      <td>0.730469</td>\n",
       "      <td>0.611328</td>\n",
       "    </tr>\n",
       "    <tr>\n",
       "      <th>4</th>\n",
       "      <td>agri_0_1024.jpeg</td>\n",
       "      <td>1</td>\n",
       "      <td>0.601562</td>\n",
       "      <td>0.448242</td>\n",
       "      <td>0.570312</td>\n",
       "      <td>0.595703</td>\n",
       "    </tr>\n",
       "  </tbody>\n",
       "</table>\n",
       "</div>"
      ],
      "text/plain": [
       "         image_file class  x_center  y_center     width    height\n",
       "0  agri_0_1009.jpeg     1  0.608398  0.498047  0.541016   0.53125\n",
       "1  agri_0_1017.jpeg     1  0.496094  0.384766  0.960938  0.753906\n",
       "2  agri_0_1018.jpeg     1  0.445312  0.483398  0.808594  0.634766\n",
       "3  agri_0_1020.jpeg     1  0.494141  0.350586  0.730469  0.611328\n",
       "4  agri_0_1024.jpeg     1  0.601562  0.448242  0.570312  0.595703"
      ]
     },
     "execution_count": 5,
     "metadata": {},
     "output_type": "execute_result"
    }
   ],
   "source": [
    "# creating initial dataframe from txt files (YOLO format)\n",
    "df = pd.DataFrame(columns=['image_file', 'class', 'x_center', 'y_center', 'width', 'height'])\n",
    "\n",
    "df['image_file'] = image_list\n",
    "\n",
    "i=0\n",
    "for file in df['image_file']:\n",
    "    label = open(path + file[:-5] +'.txt', 'r').readline().split()\n",
    "    df.loc[i, 'class'] = int(label[0])\n",
    "    df.loc[i, 'x_center'] = float(label[1])\n",
    "    df.loc[i, 'y_center'] = float(label[2])\n",
    "    df.loc[i, 'width'] = float(label[3])\n",
    "    df.loc[i, 'height'] = float(label[4])\n",
    "    i +=1\n",
    "    \n",
    "df.head()"
   ]
  },
  {
   "cell_type": "code",
   "execution_count": 6,
   "metadata": {},
   "outputs": [
    {
     "name": "stdout",
     "output_type": "stream",
     "text": [
      "<class 'pandas.core.frame.DataFrame'>\n",
      "RangeIndex: 1300 entries, 0 to 1299\n",
      "Data columns (total 6 columns):\n",
      " #   Column      Non-Null Count  Dtype \n",
      "---  ------      --------------  ----- \n",
      " 0   image_file  1300 non-null   object\n",
      " 1   class       1300 non-null   object\n",
      " 2   x_center    1300 non-null   object\n",
      " 3   y_center    1300 non-null   object\n",
      " 4   width       1300 non-null   object\n",
      " 5   height      1300 non-null   object\n",
      "dtypes: object(6)\n",
      "memory usage: 61.1+ KB\n"
     ]
    }
   ],
   "source": [
    "df.info()"
   ]
  },
  {
   "cell_type": "code",
   "execution_count": 8,
   "metadata": {},
   "outputs": [
    {
     "data": {
      "text/html": [
       "<div>\n",
       "<style scoped>\n",
       "    .dataframe tbody tr th:only-of-type {\n",
       "        vertical-align: middle;\n",
       "    }\n",
       "\n",
       "    .dataframe tbody tr th {\n",
       "        vertical-align: top;\n",
       "    }\n",
       "\n",
       "    .dataframe thead th {\n",
       "        text-align: right;\n",
       "    }\n",
       "</style>\n",
       "<table border=\"1\" class=\"dataframe\">\n",
       "  <thead>\n",
       "    <tr style=\"text-align: right;\">\n",
       "      <th></th>\n",
       "      <th>filename</th>\n",
       "      <th>width</th>\n",
       "      <th>height</th>\n",
       "      <th>x_min</th>\n",
       "      <th>y_min</th>\n",
       "      <th>x_max</th>\n",
       "      <th>y_max</th>\n",
       "      <th>class</th>\n",
       "    </tr>\n",
       "  </thead>\n",
       "  <tbody>\n",
       "    <tr>\n",
       "      <th>0</th>\n",
       "      <td>agri_0_1009.jpeg</td>\n",
       "      <td>512</td>\n",
       "      <td>512</td>\n",
       "      <td>0.33789</td>\n",
       "      <td>0.232422</td>\n",
       "      <td>0.878906</td>\n",
       "      <td>0.763672</td>\n",
       "      <td>1</td>\n",
       "    </tr>\n",
       "    <tr>\n",
       "      <th>1</th>\n",
       "      <td>agri_0_1017.jpeg</td>\n",
       "      <td>512</td>\n",
       "      <td>512</td>\n",
       "      <td>0.015625</td>\n",
       "      <td>0.007813</td>\n",
       "      <td>0.976563</td>\n",
       "      <td>0.761719</td>\n",
       "      <td>1</td>\n",
       "    </tr>\n",
       "    <tr>\n",
       "      <th>2</th>\n",
       "      <td>agri_0_1018.jpeg</td>\n",
       "      <td>512</td>\n",
       "      <td>512</td>\n",
       "      <td>0.041015</td>\n",
       "      <td>0.166015</td>\n",
       "      <td>0.849609</td>\n",
       "      <td>0.800781</td>\n",
       "      <td>1</td>\n",
       "    </tr>\n",
       "    <tr>\n",
       "      <th>3</th>\n",
       "      <td>agri_0_1020.jpeg</td>\n",
       "      <td>512</td>\n",
       "      <td>512</td>\n",
       "      <td>0.128906</td>\n",
       "      <td>0.044922</td>\n",
       "      <td>0.859376</td>\n",
       "      <td>0.65625</td>\n",
       "      <td>1</td>\n",
       "    </tr>\n",
       "    <tr>\n",
       "      <th>4</th>\n",
       "      <td>agri_0_1024.jpeg</td>\n",
       "      <td>512</td>\n",
       "      <td>512</td>\n",
       "      <td>0.316406</td>\n",
       "      <td>0.15039</td>\n",
       "      <td>0.886718</td>\n",
       "      <td>0.746093</td>\n",
       "      <td>1</td>\n",
       "    </tr>\n",
       "  </tbody>\n",
       "</table>\n",
       "</div>"
      ],
      "text/plain": [
       "           filename  width  height     x_min     y_min     x_max     y_max  \\\n",
       "0  agri_0_1009.jpeg    512     512   0.33789  0.232422  0.878906  0.763672   \n",
       "1  agri_0_1017.jpeg    512     512  0.015625  0.007813  0.976563  0.761719   \n",
       "2  agri_0_1018.jpeg    512     512  0.041015  0.166015  0.849609  0.800781   \n",
       "3  agri_0_1020.jpeg    512     512  0.128906  0.044922  0.859376   0.65625   \n",
       "4  agri_0_1024.jpeg    512     512  0.316406   0.15039  0.886718  0.746093   \n",
       "\n",
       "  class  \n",
       "0     1  \n",
       "1     1  \n",
       "2     1  \n",
       "3     1  \n",
       "4     1  "
      ]
     },
     "execution_count": 8,
     "metadata": {},
     "output_type": "execute_result"
    }
   ],
   "source": [
    "# creating dataframe in Pascal VOC format with bounding boxes scaled (from originl data)\n",
    "df_pas_voc = pd.DataFrame(columns = ['filename', 'width', 'height', 'x_min', 'y_min', 'x_max', 'y_max', 'class'])\n",
    "\n",
    "df_pas_voc['filename'] = df['image_file']\n",
    "df_pas_voc['class'] = df['class']\n",
    "df_pas_voc['width'] = 512\n",
    "df_pas_voc['height'] = 512\n",
    "\n",
    "for i in range(len(df_pas_voc)):\n",
    "    df_pas_voc.loc[i, 'x_min'] = df.loc[i, 'x_center'] - (df.loc[i, 'width']/2)\n",
    "    df_pas_voc.loc[i, 'y_min'] = df.loc[i, 'y_center'] - (df.loc[i, 'height']/2)\n",
    "    df_pas_voc.loc[i, 'x_max'] = df.loc[i, 'x_center'] + (df.loc[i, 'width']/2)\n",
    "    df_pas_voc.loc[i, 'y_max'] = df.loc[i, 'y_center'] + (df.loc[i, 'height']/2)\n",
    "\n",
    "df_pas_voc.head()"
   ]
  },
  {
   "cell_type": "code",
   "execution_count": 10,
   "metadata": {},
   "outputs": [
    {
     "data": {
      "text/html": [
       "<div>\n",
       "<style scoped>\n",
       "    .dataframe tbody tr th:only-of-type {\n",
       "        vertical-align: middle;\n",
       "    }\n",
       "\n",
       "    .dataframe tbody tr th {\n",
       "        vertical-align: top;\n",
       "    }\n",
       "\n",
       "    .dataframe thead th {\n",
       "        text-align: right;\n",
       "    }\n",
       "</style>\n",
       "<table border=\"1\" class=\"dataframe\">\n",
       "  <thead>\n",
       "    <tr style=\"text-align: right;\">\n",
       "      <th></th>\n",
       "      <th>filename</th>\n",
       "      <th>width</th>\n",
       "      <th>height</th>\n",
       "      <th>x_min</th>\n",
       "      <th>y_min</th>\n",
       "      <th>x_max</th>\n",
       "      <th>y_max</th>\n",
       "      <th>class</th>\n",
       "    </tr>\n",
       "  </thead>\n",
       "  <tbody>\n",
       "    <tr>\n",
       "      <th>0</th>\n",
       "      <td>agri_0_1009.jpeg</td>\n",
       "      <td>512</td>\n",
       "      <td>512</td>\n",
       "      <td>173</td>\n",
       "      <td>119</td>\n",
       "      <td>450</td>\n",
       "      <td>391</td>\n",
       "      <td>1</td>\n",
       "    </tr>\n",
       "    <tr>\n",
       "      <th>1</th>\n",
       "      <td>agri_0_1017.jpeg</td>\n",
       "      <td>512</td>\n",
       "      <td>512</td>\n",
       "      <td>8</td>\n",
       "      <td>4</td>\n",
       "      <td>500</td>\n",
       "      <td>390</td>\n",
       "      <td>1</td>\n",
       "    </tr>\n",
       "    <tr>\n",
       "      <th>2</th>\n",
       "      <td>agri_0_1018.jpeg</td>\n",
       "      <td>512</td>\n",
       "      <td>512</td>\n",
       "      <td>21</td>\n",
       "      <td>85</td>\n",
       "      <td>435</td>\n",
       "      <td>410</td>\n",
       "      <td>1</td>\n",
       "    </tr>\n",
       "    <tr>\n",
       "      <th>3</th>\n",
       "      <td>agri_0_1020.jpeg</td>\n",
       "      <td>512</td>\n",
       "      <td>512</td>\n",
       "      <td>66</td>\n",
       "      <td>23</td>\n",
       "      <td>440</td>\n",
       "      <td>336</td>\n",
       "      <td>1</td>\n",
       "    </tr>\n",
       "    <tr>\n",
       "      <th>4</th>\n",
       "      <td>agri_0_1024.jpeg</td>\n",
       "      <td>512</td>\n",
       "      <td>512</td>\n",
       "      <td>162</td>\n",
       "      <td>77</td>\n",
       "      <td>454</td>\n",
       "      <td>382</td>\n",
       "      <td>1</td>\n",
       "    </tr>\n",
       "  </tbody>\n",
       "</table>\n",
       "</div>"
      ],
      "text/plain": [
       "           filename  width  height x_min y_min x_max y_max class\n",
       "0  agri_0_1009.jpeg    512     512   173   119   450   391     1\n",
       "1  agri_0_1017.jpeg    512     512     8     4   500   390     1\n",
       "2  agri_0_1018.jpeg    512     512    21    85   435   410     1\n",
       "3  agri_0_1020.jpeg    512     512    66    23   440   336     1\n",
       "4  agri_0_1024.jpeg    512     512   162    77   454   382     1"
      ]
     },
     "execution_count": 10,
     "metadata": {},
     "output_type": "execute_result"
    }
   ],
   "source": [
    "# creating dataframe in proper Pascal VOC format with bounding boxes not scaled\n",
    "df_pascal_voc = pd.DataFrame(columns = ['filename', 'width', 'height', 'x_min', 'y_min', 'x_max', 'y_max', 'class'])\n",
    "\n",
    "df_pascal_voc['filename'] = df['image_file']\n",
    "df_pascal_voc['class'] = df['class']\n",
    "df_pascal_voc['width'] = 512\n",
    "df_pascal_voc['height'] = 512\n",
    "\n",
    "for i in range(len(df_pascal_voc)):\n",
    "    df_pascal_voc.loc[i, 'x_min'] = round((df.loc[i, 'x_center'] - (df.loc[i, 'width']/2))*512)\n",
    "    df_pascal_voc.loc[i, 'y_min'] = round((df.loc[i, 'y_center'] - (df.loc[i, 'height']/2))*512)\n",
    "    df_pascal_voc.loc[i, 'x_max'] = round((df.loc[i, 'x_center'] + (df.loc[i, 'width']/2))*512)\n",
    "    df_pascal_voc.loc[i, 'y_max'] = round((df.loc[i, 'y_center'] + (df.loc[i, 'height']/2))*512)\n",
    "\n",
    "df_pascal_voc.head()"
   ]
  },
  {
   "cell_type": "markdown",
   "metadata": {},
   "source": [
    "### Formating data for modeling"
   ]
  },
  {
   "cell_type": "code",
   "execution_count": 16,
   "metadata": {},
   "outputs": [],
   "source": [
    "# loading images and preprocessing into and array of pixel values\n",
    "data = []\n",
    "for filename in df_pas_voc['filename']:\n",
    "    image = load_img(path + filename, target_size=(224, 224))\n",
    "    image = img_to_array(image)\n",
    "    data.append(image)"
   ]
  },
  {
   "cell_type": "code",
   "execution_count": 25,
   "metadata": {},
   "outputs": [
    {
     "data": {
      "text/plain": [
       "array([[[[3.6293734e-03, 3.6447521e-03, 3.3986929e-03],\n",
       "         [3.5678586e-03, 3.5371012e-03, 3.3371781e-03],\n",
       "         [3.8292964e-03, 3.7677817e-03, 3.5986160e-03],\n",
       "         ...,\n",
       "         [1.7993080e-03, 1.6147635e-03, 1.6762784e-03],\n",
       "         [1.8762015e-03, 1.6455210e-03, 1.7531719e-03],\n",
       "         [1.8454441e-03, 1.5993848e-03, 1.7531719e-03]],\n",
       "\n",
       "        [[3.4909651e-03, 3.5063438e-03, 3.2602844e-03],\n",
       "         [3.4909651e-03, 3.4602077e-03, 3.2602844e-03],\n",
       "         [3.7831604e-03, 3.7216456e-03, 3.5524799e-03],\n",
       "         ...,\n",
       "         [1.8454441e-03, 1.6608997e-03, 1.7224145e-03],\n",
       "         [1.8146867e-03, 1.6147635e-03, 1.7224145e-03],\n",
       "         [1.8608228e-03, 1.6147635e-03, 1.7685506e-03]],\n",
       "\n",
       "        [[3.6139947e-03, 3.6293734e-03, 3.4140716e-03],\n",
       "         [3.6293734e-03, 3.5986160e-03, 3.3986929e-03],\n",
       "         [3.7062669e-03, 3.6447521e-03, 3.4755864e-03],\n",
       "         ...,\n",
       "         [2.3836987e-03, 2.2145330e-03, 2.2760478e-03],\n",
       "         [2.4298348e-03, 2.2606691e-03, 2.3529413e-03],\n",
       "         [2.4913496e-03, 2.3221839e-03, 2.4452135e-03]],\n",
       "\n",
       "        ...,\n",
       "\n",
       "        [[2.5836218e-03, 2.5221070e-03, 2.3836987e-03],\n",
       "         [2.6143792e-03, 2.5528644e-03, 2.4144561e-03],\n",
       "         [2.3836987e-03, 2.2760478e-03, 2.1222609e-03],\n",
       "         ...,\n",
       "         [2.7374087e-03, 2.6451366e-03, 2.6758939e-03],\n",
       "         [2.6605153e-03, 2.5682431e-03, 2.6297579e-03],\n",
       "         [2.7220300e-03, 2.6297579e-03, 2.6912726e-03]],\n",
       "\n",
       "        [[2.6297579e-03, 2.6451366e-03, 2.4298348e-03],\n",
       "         [2.5990005e-03, 2.6143792e-03, 2.3990774e-03],\n",
       "         [2.2760478e-03, 2.2452904e-03, 2.0453674e-03],\n",
       "         ...,\n",
       "         [2.8143022e-03, 2.7374087e-03, 2.7989235e-03],\n",
       "         [2.8911957e-03, 2.8143022e-03, 2.9065744e-03],\n",
       "         [2.8296809e-03, 2.7527874e-03, 2.8604383e-03]],\n",
       "\n",
       "        [[2.4605922e-03, 2.5374857e-03, 2.1991543e-03],\n",
       "         [2.5067283e-03, 2.5836218e-03, 2.2760478e-03],\n",
       "         [2.2760478e-03, 2.2914265e-03, 2.0453674e-03],\n",
       "         ...,\n",
       "         [2.6912726e-03, 2.6143792e-03, 2.6758939e-03],\n",
       "         [2.5528644e-03, 2.4759709e-03, 2.5836218e-03],\n",
       "         [2.7066513e-03, 2.6297579e-03, 2.7374087e-03]]],\n",
       "\n",
       "\n",
       "       [[[2.5067283e-03, 2.4759709e-03, 1.7224145e-03],\n",
       "         [2.2606691e-03, 2.3836987e-03, 8.3044986e-04],\n",
       "         [2.8143022e-03, 2.9988466e-03, 1.4609765e-03],\n",
       "         ...,\n",
       "         [8.1507111e-04, 1.6455210e-03, 4.9211847e-04],\n",
       "         [6.6128414e-04, 1.4609765e-03, 3.5371011e-04],\n",
       "         [7.3817762e-04, 1.5378700e-03, 4.3060363e-04]],\n",
       "\n",
       "        [[8.6120726e-04, 1.0765091e-03, 1.6916571e-04],\n",
       "         [9.5347944e-04, 1.2610535e-03, 0.0000000e+00],\n",
       "         [1.9684739e-03, 2.3221839e-03, 9.2272204e-04],\n",
       "         ...,\n",
       "         [1.2302961e-03, 2.1068822e-03, 8.6120726e-04],\n",
       "         [1.3071896e-03, 2.1837757e-03, 9.6885813e-04],\n",
       "         [1.2610535e-03, 2.1376396e-03, 9.2272204e-04]],\n",
       "\n",
       "        [[1.3071896e-03, 1.6916571e-03, 6.4590544e-04],\n",
       "         [1.2456748e-03, 1.6455210e-03, 7.0742023e-04],\n",
       "         [6.3052675e-04, 1.0611304e-03, 0.0000000e+00],\n",
       "         ...,\n",
       "         [8.4582856e-04, 1.7685506e-03, 4.1522493e-04],\n",
       "         [9.9961564e-04, 1.9530950e-03, 6.3052675e-04],\n",
       "         [1.0611304e-03, 2.0146100e-03, 6.9204153e-04]],\n",
       "\n",
       "        ...,\n",
       "\n",
       "        [[1.0303730e-03, 1.4763552e-03, 7.3817762e-04],\n",
       "         [1.0765091e-03, 1.5378700e-03, 7.0742023e-04],\n",
       "         [1.1072665e-03, 1.5840061e-03, 6.7666284e-04],\n",
       "         ...,\n",
       "         [1.2918109e-03, 2.1530183e-03, 1.2149174e-03],\n",
       "         [1.4763552e-03, 2.3068052e-03, 1.4148405e-03],\n",
       "         [1.4763552e-03, 2.2914265e-03, 1.4302192e-03]],\n",
       "\n",
       "        [[6.7666284e-04, 9.6885813e-04, 5.0749717e-04],\n",
       "         [6.1514805e-04, 9.5347944e-04, 3.5371011e-04],\n",
       "         [5.8439065e-04, 9.9961564e-04, 2.1530181e-04],\n",
       "         ...,\n",
       "         [6.4590544e-04, 1.4609765e-03, 5.9976935e-04],\n",
       "         [4.7673972e-04, 1.3225683e-03, 4.7673972e-04],\n",
       "         [3.9984621e-04, 1.2302961e-03, 4.3060363e-04]],\n",
       "\n",
       "        [[4.1522493e-04, 5.9976935e-04, 2.3068051e-04],\n",
       "         [3.6908881e-04, 6.1514805e-04, 6.1514809e-05],\n",
       "         [5.9976935e-04, 9.5347944e-04, 1.5378701e-04],\n",
       "         ...,\n",
       "         [1.1072665e-03, 1.9377163e-03, 1.0149943e-03],\n",
       "         [9.5347944e-04, 1.7993080e-03, 9.2272204e-04],\n",
       "         [8.6120726e-04, 1.7070358e-03, 8.6120726e-04]]],\n",
       "\n",
       "\n",
       "       [[[2.4144561e-03, 2.1991543e-03, 2.1530183e-03],\n",
       "         [2.3990774e-03, 2.2299117e-03, 2.1683970e-03],\n",
       "         [2.3221839e-03, 2.1530183e-03, 2.0915035e-03],\n",
       "         ...,\n",
       "         [1.2149174e-03, 1.1226452e-03, 1.1534026e-03],\n",
       "         [1.1534026e-03, 1.0918878e-03, 1.1072665e-03],\n",
       "         [1.1687813e-03, 1.1072665e-03, 1.1226452e-03]],\n",
       "\n",
       "        [[2.3836987e-03, 2.3068052e-03, 2.2452904e-03],\n",
       "         [2.4144561e-03, 2.3375626e-03, 2.2760478e-03],\n",
       "         [2.4298348e-03, 2.3529413e-03, 2.2914265e-03],\n",
       "         ...,\n",
       "         [1.0303730e-03, 9.3810074e-04, 9.6885813e-04],\n",
       "         [9.8423695e-04, 9.2272204e-04, 9.3810074e-04],\n",
       "         [1.0149943e-03, 9.5347944e-04, 9.6885813e-04]],\n",
       "\n",
       "        [[2.5990005e-03, 2.6297579e-03, 2.5836218e-03],\n",
       "         [2.5374857e-03, 2.5682431e-03, 2.5221070e-03],\n",
       "         [2.5682431e-03, 2.5682431e-03, 2.5374857e-03],\n",
       "         ...,\n",
       "         [1.2302961e-03, 1.1380239e-03, 1.1687813e-03],\n",
       "         [1.1995387e-03, 1.1380239e-03, 1.1534026e-03],\n",
       "         [1.1995387e-03, 1.1380239e-03, 1.1534026e-03]],\n",
       "\n",
       "        ...,\n",
       "\n",
       "        [[1.6301422e-03, 1.8608228e-03, 1.7839293e-03],\n",
       "         [1.6301422e-03, 1.8608228e-03, 1.7839293e-03],\n",
       "         [1.6147635e-03, 1.8762015e-03, 1.7839293e-03],\n",
       "         ...,\n",
       "         [1.2456748e-03, 1.1687813e-03, 1.0765091e-03],\n",
       "         [1.1841600e-03, 1.1226452e-03, 9.8423695e-04],\n",
       "         [1.2149174e-03, 1.1534026e-03, 1.0149943e-03]],\n",
       "\n",
       "        [[1.6455210e-03, 1.8300654e-03, 1.7685506e-03],\n",
       "         [1.6455210e-03, 1.8300654e-03, 1.7685506e-03],\n",
       "         [1.6147635e-03, 1.8454441e-03, 1.7685506e-03],\n",
       "         ...,\n",
       "         [1.7224145e-03, 1.6455210e-03, 1.5532487e-03],\n",
       "         [1.5686274e-03, 1.5071126e-03, 1.3687044e-03],\n",
       "         [1.6301422e-03, 1.5686274e-03, 1.4302192e-03]],\n",
       "\n",
       "        [[1.6608997e-03, 1.7993080e-03, 1.7531719e-03],\n",
       "         [1.6608997e-03, 1.7993080e-03, 1.7531719e-03],\n",
       "         [1.6455210e-03, 1.8146867e-03, 1.7531719e-03],\n",
       "         ...,\n",
       "         [2.0146100e-03, 1.9377163e-03, 1.8454441e-03],\n",
       "         [1.9069589e-03, 1.8454441e-03, 1.7070358e-03],\n",
       "         [1.9377163e-03, 1.8762015e-03, 1.7377932e-03]]],\n",
       "\n",
       "\n",
       "       [[[1.8608228e-03, 1.6762784e-03, 1.7377932e-03],\n",
       "         [1.8454441e-03, 1.6762784e-03, 1.6455210e-03],\n",
       "         [1.7839293e-03, 1.5993848e-03, 1.4148405e-03],\n",
       "         ...,\n",
       "         [2.1530183e-03, 2.0915035e-03, 1.9530950e-03],\n",
       "         [2.1837757e-03, 2.1222609e-03, 1.9838526e-03],\n",
       "         [2.0761248e-03, 2.0146100e-03, 1.8762015e-03]],\n",
       "\n",
       "        [[1.8915802e-03, 1.6455210e-03, 1.6916571e-03],\n",
       "         [1.9069589e-03, 1.6762784e-03, 1.6301422e-03],\n",
       "         [1.8608228e-03, 1.5993848e-03, 1.4455979e-03],\n",
       "         ...,\n",
       "         [2.1376396e-03, 2.0761248e-03, 1.9377163e-03],\n",
       "         [2.1222609e-03, 2.0761248e-03, 1.9684739e-03],\n",
       "         [2.0146100e-03, 1.9684739e-03, 1.8608228e-03]],\n",
       "\n",
       "        [[1.9838526e-03, 1.6762784e-03, 1.6916571e-03],\n",
       "         [1.9992313e-03, 1.7070358e-03, 1.6147635e-03],\n",
       "         [1.9684739e-03, 1.6608997e-03, 1.4917339e-03],\n",
       "         ...,\n",
       "         [2.0453674e-03, 1.9992313e-03, 1.8608228e-03],\n",
       "         [2.0607461e-03, 2.0607461e-03, 1.9377163e-03],\n",
       "         [1.9530950e-03, 1.9530950e-03, 1.8300654e-03]],\n",
       "\n",
       "        ...,\n",
       "\n",
       "        [[2.3375626e-03, 2.2606691e-03, 2.3683200e-03],\n",
       "         [2.2299117e-03, 2.1530183e-03, 2.2452904e-03],\n",
       "         [2.2760478e-03, 2.1837757e-03, 2.2145330e-03],\n",
       "         ...,\n",
       "         [2.8143022e-03, 2.6912726e-03, 2.6605153e-03],\n",
       "         [2.7989235e-03, 2.7220300e-03, 2.6758939e-03],\n",
       "         [2.7835448e-03, 2.7681661e-03, 2.6912726e-03]],\n",
       "\n",
       "        [[2.1376396e-03, 2.0453674e-03, 2.2299117e-03],\n",
       "         [2.1068822e-03, 2.0146100e-03, 2.1683970e-03],\n",
       "         [2.2299117e-03, 2.1376396e-03, 2.1991543e-03],\n",
       "         ...,\n",
       "         [2.8143022e-03, 2.6605153e-03, 2.6451366e-03],\n",
       "         [2.8604383e-03, 2.7066513e-03, 2.6912726e-03],\n",
       "         [2.9219531e-03, 2.7989235e-03, 2.7681661e-03]],\n",
       "\n",
       "        [[2.2299117e-03, 2.1376396e-03, 2.3529413e-03],\n",
       "         [2.1530183e-03, 2.0607461e-03, 2.2452904e-03],\n",
       "         [2.2145330e-03, 2.1068822e-03, 2.2145330e-03],\n",
       "         ...,\n",
       "         [2.8296809e-03, 2.6451366e-03, 2.6451366e-03],\n",
       "         [2.9065744e-03, 2.6758939e-03, 2.7220300e-03],\n",
       "         [2.9834679e-03, 2.7527874e-03, 2.7989235e-03]]],\n",
       "\n",
       "\n",
       "       [[[1.1841600e-03, 1.2610535e-03, 1.1534026e-03],\n",
       "         [1.1995387e-03, 1.2302961e-03, 1.1534026e-03],\n",
       "         [1.3379470e-03, 1.3687044e-03, 1.2918109e-03],\n",
       "         ...,\n",
       "         [2.9680892e-03, 2.8450596e-03, 2.6451366e-03],\n",
       "         [2.9527105e-03, 2.7681661e-03, 2.5528644e-03],\n",
       "         [2.9834679e-03, 2.7989235e-03, 2.5836218e-03]],\n",
       "\n",
       "        [[1.1072665e-03, 1.1534026e-03, 1.0457517e-03],\n",
       "         [1.1841600e-03, 1.2149174e-03, 1.1380239e-03],\n",
       "         [1.3687044e-03, 1.3840831e-03, 1.3071896e-03],\n",
       "         ...,\n",
       "         [2.9680892e-03, 2.8604383e-03, 2.6143792e-03],\n",
       "         [2.9065744e-03, 2.7681661e-03, 2.5067283e-03],\n",
       "         [2.9680892e-03, 2.7989235e-03, 2.5221070e-03]],\n",
       "\n",
       "        [[1.8454441e-03, 1.8608228e-03, 1.7685506e-03],\n",
       "         [1.8454441e-03, 1.8300654e-03, 1.7685506e-03],\n",
       "         [1.8146867e-03, 1.7993080e-03, 1.7377932e-03],\n",
       "         ...,\n",
       "         [2.8296809e-03, 2.7220300e-03, 2.4298348e-03],\n",
       "         [2.7681661e-03, 2.6451366e-03, 2.3221839e-03],\n",
       "         [2.7989235e-03, 2.6758939e-03, 2.3529413e-03]],\n",
       "\n",
       "        ...,\n",
       "\n",
       "        [[2.3529413e-03, 2.2299117e-03, 2.1991543e-03],\n",
       "         [2.3068052e-03, 2.1837757e-03, 2.1530183e-03],\n",
       "         [2.3990774e-03, 2.2760478e-03, 2.2452904e-03],\n",
       "         ...,\n",
       "         [2.5067283e-03, 2.4298348e-03, 2.3375626e-03],\n",
       "         [2.4144561e-03, 2.3375626e-03, 2.2452904e-03],\n",
       "         [2.4605922e-03, 2.3836987e-03, 2.2914265e-03]],\n",
       "\n",
       "        [[2.3836987e-03, 2.2299117e-03, 2.2145330e-03],\n",
       "         [2.3529413e-03, 2.1991543e-03, 2.1837757e-03],\n",
       "         [2.4605922e-03, 2.3068052e-03, 2.2914265e-03],\n",
       "         ...,\n",
       "         [2.3068052e-03, 2.2452904e-03, 2.1068822e-03],\n",
       "         [2.2145330e-03, 2.1530183e-03, 2.0146100e-03],\n",
       "         [2.2606691e-03, 2.1991543e-03, 2.0607461e-03]],\n",
       "\n",
       "        [[2.3683200e-03, 2.2145330e-03, 2.1991543e-03],\n",
       "         [2.3375626e-03, 2.1837757e-03, 2.1683970e-03],\n",
       "         [2.4605922e-03, 2.3068052e-03, 2.2914265e-03],\n",
       "         ...,\n",
       "         [2.3221839e-03, 2.2145330e-03, 2.0915035e-03],\n",
       "         [2.2299117e-03, 2.1222609e-03, 1.9992313e-03],\n",
       "         [2.2760478e-03, 2.1683970e-03, 2.0453674e-03]]]], dtype=float32)"
      ]
     },
     "execution_count": 25,
     "metadata": {},
     "output_type": "execute_result"
    }
   ],
   "source": [
    "# converting data (images) into numpy array and scaling pixel intensities\n",
    "data = np.array(data, dtype='float32') / 255.0\n",
    "data[0:5]"
   ]
  },
  {
   "cell_type": "code",
   "execution_count": 26,
   "metadata": {},
   "outputs": [
    {
     "data": {
      "text/plain": [
       "numpy.ndarray"
      ]
     },
     "execution_count": 26,
     "metadata": {},
     "output_type": "execute_result"
    }
   ],
   "source": [
    "type(data)"
   ]
  },
  {
   "cell_type": "code",
   "execution_count": 46,
   "metadata": {},
   "outputs": [
    {
     "data": {
      "text/plain": [
       "[1, 1, 1, 1, 1]"
      ]
     },
     "execution_count": 46,
     "metadata": {},
     "output_type": "execute_result"
    }
   ],
   "source": [
    "# creating list of labels\n",
    "labels = []\n",
    "for i in range(len(df_pas_voc)):\n",
    "    labels.append(df_pas_voc.loc[i, 'class']) \n",
    "labels[0:5]"
   ]
  },
  {
   "cell_type": "code",
   "execution_count": 41,
   "metadata": {},
   "outputs": [
    {
     "data": {
      "text/plain": [
       "array([1, 1, 1, ..., 1, 1, 1])"
      ]
     },
     "execution_count": 41,
     "metadata": {},
     "output_type": "execute_result"
    }
   ],
   "source": [
    "# converting labels into numpy array\n",
    "labels = np.array(labels)\n",
    "labels"
   ]
  },
  {
   "cell_type": "code",
   "execution_count": 42,
   "metadata": {},
   "outputs": [
    {
     "data": {
      "text/plain": [
       "numpy.ndarray"
      ]
     },
     "execution_count": 42,
     "metadata": {},
     "output_type": "execute_result"
    }
   ],
   "source": [
    "type(labels)"
   ]
  },
  {
   "cell_type": "code",
   "execution_count": 49,
   "metadata": {},
   "outputs": [],
   "source": [
    "# since there are only twwo unqie labels we need to use tf's utility function\n",
    "labels = to_categorical(labels)"
   ]
  },
  {
   "cell_type": "code",
   "execution_count": 50,
   "metadata": {},
   "outputs": [
    {
     "data": {
      "text/plain": [
       "[(0.33788999999999997, 0.23242200000000002, 0.878906, 0.763672),\n",
       " (0.015625, 0.007813000000000014, 0.976563, 0.761719),\n",
       " (0.04101499999999997, 0.16601499999999997, 0.8496090000000001, 0.800781),\n",
       " (0.12890649999999998, 0.04492200000000002, 0.8593755000000001, 0.65625),\n",
       " (0.316406, 0.15039049999999998, 0.8867180000000001, 0.7460935)]"
      ]
     },
     "execution_count": 50,
     "metadata": {},
     "output_type": "execute_result"
    }
   ],
   "source": [
    "# creating list of bounding box values\n",
    "bboxes = []\n",
    "for i in range(len(df_pas_voc)):\n",
    "    bboxes.append((df_pas_voc.loc[i, 'x_min'], df_pas_voc.loc[i, 'y_min'], df_pas_voc.loc[i, 'x_max'], df_pas_voc.loc[i, 'y_max']))\n",
    "    \n",
    "bboxes[:5]    "
   ]
  },
  {
   "cell_type": "code",
   "execution_count": 51,
   "metadata": {},
   "outputs": [
    {
     "data": {
      "text/plain": [
       "array([[0.33789  , 0.232422 , 0.878906 , 0.763672 ],\n",
       "       [0.015625 , 0.007813 , 0.976563 , 0.761719 ],\n",
       "       [0.041015 , 0.166015 , 0.849609 , 0.800781 ],\n",
       "       [0.1289065, 0.044922 , 0.8593755, 0.65625  ],\n",
       "       [0.316406 , 0.1503905, 0.886718 , 0.7460935]], dtype=float32)"
      ]
     },
     "execution_count": 51,
     "metadata": {},
     "output_type": "execute_result"
    }
   ],
   "source": [
    "# converting bounding boxes into numpy array\n",
    "bboxes = np.array(bboxes, dtype=\"float32\")\n",
    "bboxes[0:5]"
   ]
  },
  {
   "cell_type": "code",
   "execution_count": 52,
   "metadata": {},
   "outputs": [
    {
     "data": {
      "text/plain": [
       "['../Data/data/agri_0_1009.jpeg',\n",
       " '../Data/data/agri_0_1017.jpeg',\n",
       " '../Data/data/agri_0_1018.jpeg',\n",
       " '../Data/data/agri_0_1020.jpeg',\n",
       " '../Data/data/agri_0_1024.jpeg']"
      ]
     },
     "execution_count": 52,
     "metadata": {},
     "output_type": "execute_result"
    }
   ],
   "source": [
    "# creating list of image paths\n",
    "image_paths = []\n",
    "for i in range(len(df_pas_voc)):\n",
    "    image_paths.append((path + df_pas_voc.loc[i, \"filename\"]))\n",
    "\n",
    "image_paths[0:5]"
   ]
  },
  {
   "cell_type": "code",
   "execution_count": 53,
   "metadata": {},
   "outputs": [],
   "source": [
    "# converting image paths into numpy array\n",
    "image_paths = np.array(image_paths)"
   ]
  },
  {
   "cell_type": "code",
   "execution_count": null,
   "metadata": {},
   "outputs": [],
   "source": []
  }
 ],
 "metadata": {
  "kernelspec": {
   "display_name": "Python (learn-env)",
   "language": "python",
   "name": "learn-env"
  },
  "language_info": {
   "codemirror_mode": {
    "name": "ipython",
    "version": 3
   },
   "file_extension": ".py",
   "mimetype": "text/x-python",
   "name": "python",
   "nbconvert_exporter": "python",
   "pygments_lexer": "ipython3",
   "version": "3.8.5"
  }
 },
 "nbformat": 4,
 "nbformat_minor": 4
}
